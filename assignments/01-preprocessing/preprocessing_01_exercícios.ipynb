{
 "cells": [
  {
   "cell_type": "markdown",
   "metadata": {
    "deletable": false,
    "editable": false,
    "nbgrader": {
     "checksum": "c1653c20d1cc1f7609ff454d68779d4a",
     "grade": false,
     "grade_id": "cell-f6e0462fba1942c1",
     "locked": true,
     "schema_version": 1,
     "solution": false
    }
   },
   "source": [
    "## Exercício censo 1995 nos Estados Unidos\n",
    "\n",
    "* O conjunto de dados ```adult``` trata de um censo demográfico realizado nos Estados Unidos em 1995\n",
    "* O atributo classe se refere a caso um indivíduo ganha mais que 50,000 dólares por ano ou não\n",
    "\n",
    "Tarefas:\n",
    "\n",
    "* Separe o dataset em treino e teste (use seed=0), com 75% para treino e 25% para teste\n",
    "* Adicione valores faltantes, trate os atributos categóricos\n",
    "* Treine uma [árvore de decisão](http://scikit-learn.org/stable/modules/generated/sklearn.tree.DecisionTreeClassifier.html) neste conjunto\n",
    "* Reporte a [acurácia](http://scikit-learn.org/stable/modules/generated/sklearn.metrics.accuracy_score.html#sklearn.metrics.accuracy_score)\n",
    "* Visualize a árvore de decisão (tutorial: [link](http://scikit-learn.org/stable/modules/tree.html#classification))\n",
    "\n",
    "Descrição dos arquivos:\n",
    "\n",
    "* adult.csv: dataset\n",
    "* adult_description: descrição do conjunto de dados"
   ]
  },
  {
   "cell_type": "code",
   "execution_count": null,
   "metadata": {
    "deletable": false,
    "editable": false,
    "nbgrader": {
     "checksum": "3dc5e46e236f8148fcb5d68249df0016",
     "grade": false,
     "grade_id": "cell-1c26f14ea0f61e2b",
     "locked": true,
     "schema_version": 1,
     "solution": false
    }
   },
   "outputs": [],
   "source": [
    "import random\n",
    "import pandas as pd\n",
    "import numpy as np\n",
    "from sklearn.preprocessing import LabelEncoder\n",
    "from IPython.display import display\n",
    "\n",
    "from nose.tools import *\n",
    "\n",
    "random.seed(0)\n",
    "np.random.seed(0)  # garante que o conjunto de dados seja sempre particionado da mesma forma"
   ]
  },
  {
   "cell_type": "markdown",
   "metadata": {
    "deletable": false,
    "editable": false,
    "nbgrader": {
     "checksum": "8c5241eab3fed07bf31e1873024939c9",
     "grade": false,
     "grade_id": "cell-b6fedfbf2e40dbfd",
     "locked": true,
     "schema_version": 1,
     "solution": false
    }
   },
   "source": [
    "### Tarefa 1: Carregue o conjunto de dados e defina o tipo das colunas\n",
    "\n",
    "* Utilize o dicionário ```dtype_dict``` para determinar o tipo de cada um dos atributos\n",
    "* Adicione '?' como um possível valor faltante na análise do dataset\n",
    "  * Do contrário, ele é interpretado como um valor válido para um atributo\n",
    "* Ignore espaços em branco entre os valores:\n",
    "  * Sem ignorar, uma célula pode ser escrita como \" married \"\n",
    "  * Ignorando, a célula será escrita como \"married\"\n",
    "\n",
    "As colunas devem ter os seguintes tipos (utilize o dicionário a seguir para determinar os tipos):"
   ]
  },
  {
   "cell_type": "code",
   "execution_count": null,
   "metadata": {
    "deletable": false,
    "nbgrader": {
     "checksum": "01db0c57eee171002f2059431693ec63",
     "grade": false,
     "grade_id": "cell-fc84131f5e351720",
     "locked": false,
     "schema_version": 1,
     "solution": true
    }
   },
   "outputs": [],
   "source": [
    "dtype_dict ={\n",
    "    'age': np.float32,\n",
    "    'workclass': 'category',\n",
    "    'fnlwgt': np.float32,\n",
    "    'education': 'category',\n",
    "    'education-num': np.float32,\n",
    "    'marital-status': 'category',\n",
    "    'occupation': 'category',\n",
    "    'relationship': 'category',\n",
    "    'race': 'category',\n",
    "    'sex': 'category',\n",
    "    'capital-gain': np.float32,\n",
    "    'capital-loss': np.float32,\n",
    "    'hours-per-week': np.float32,\n",
    "    'native-country': 'category',\n",
    "    'salary': 'category',\n",
    "}\n",
    "\n",
    "# esta linha é apenas para fazer com que a célula execute. Sinta-se livre para modificá-la\n",
    "df = pd.DataFrame({'education': np.array([])})\n",
    "\n",
    "# YOUR CODE HERE\n",
    "raise NotImplementedError()\n",
    "\n",
    "# remove a coluna education, já que ela não possui nenhuma informação relevante\n",
    "education = df['education']\n",
    "del df['education']\n",
    "\n",
    "# remove a coluna do dicionário de tipos também\n",
    "del dtype_dict['education']\n",
    "\n",
    "display(df)"
   ]
  },
  {
   "cell_type": "code",
   "execution_count": null,
   "metadata": {
    "deletable": false,
    "editable": false,
    "nbgrader": {
     "checksum": "f317f65f98c64b563ee346a743ef1c43",
     "grade": true,
     "grade_id": "cell-a5d66b71bf22fed0",
     "locked": true,
     "points": 1.5,
     "schema_version": 1,
     "solution": false
    }
   },
   "outputs": [],
   "source": [
    "\"\"\"\n",
    "Testes para a Tarefa 1\n",
    "\"\"\"\n",
    "from nose.tools import *\n",
    "\n",
    "\n",
    "# checa se df é um DataFrame\n",
    "ok_(isinstance(df, pd.DataFrame))\n",
    "\n",
    "# checa os tipos das colunas\n",
    "for column_name, column_type in dtype_dict.items():\n",
    "    ok_(df[column_name].dtype == column_type)\n",
    "\n",
    "# checa se '?' foi inserido no lugar dos valores ausentes\n",
    "ok_(not np.any(df == '?'))"
   ]
  },
  {
   "cell_type": "markdown",
   "metadata": {
    "deletable": false,
    "editable": false,
    "nbgrader": {
     "checksum": "ace87e85a759de6be3db71fbdbf765fa",
     "grade": false,
     "grade_id": "cell-90e42172504898e1",
     "locked": true,
     "schema_version": 1,
     "solution": false
    }
   },
   "source": [
    "## Tarefa 2: \n",
    "\n",
    "* Para atributos numéricos, substitua os valores faltantes pela média de cada atributo\n",
    "* Para atributos categóricos, substitua os valores faltantes pela moda de cada atributo\n",
    "\n",
    "### Não realize esta operação para o atributo classe!"
   ]
  },
  {
   "cell_type": "code",
   "execution_count": null,
   "metadata": {
    "deletable": false,
    "nbgrader": {
     "checksum": "03f903dde60cc9a71529ab35c1ec553f",
     "grade": false,
     "grade_id": "cell-f1219a048821a558",
     "locked": false,
     "schema_version": 1,
     "solution": true
    }
   },
   "outputs": [],
   "source": [
    "from collections import Counter\n",
    "\n",
    "def substitui_valores(dados):    \n",
    "    # YOUR CODE HERE\n",
    "    raise NotImplementedError()\n",
    "    return dados\n",
    "\n",
    "df = substitui_valores(df)\n",
    "display(df)"
   ]
  },
  {
   "cell_type": "code",
   "execution_count": null,
   "metadata": {
    "deletable": false,
    "editable": false,
    "nbgrader": {
     "checksum": "f3f20f08f98b62b61fefb99bc8339603",
     "grade": true,
     "grade_id": "cell-ac7acf36c263efdb",
     "locked": true,
     "points": 2,
     "schema_version": 1,
     "solution": false
    }
   },
   "outputs": [],
   "source": [
    "\"\"\"\n",
    "Testes para a Tarefa 2\n",
    "\"\"\"\n",
    "from nose.tools import *\n",
    "\n",
    "# verifica se qualquer valor faltante está presente no dataset\n",
    "ok_(not df.isnull().values.any())\n",
    "\n",
    "# verifica se os valores foram inseridos corretamente.\n",
    "# PROVAVELMENTE irá jogar um warning, mas não precisa se preocupar com isso!\n",
    "adult_means = pd.Series.from_csv('datasets_parciais/adult_means_tarefa_2.csv').astype(np.float32)\n",
    "\n",
    "ok_(np.all(abs(adult_means - df.mean(axis=0).astype(np.float32)) < 0.01))"
   ]
  },
  {
   "cell_type": "markdown",
   "metadata": {
    "deletable": false,
    "editable": false,
    "nbgrader": {
     "checksum": "39820d1ae469730d7a6cff57b958246e",
     "grade": false,
     "grade_id": "cell-dc89101556992506",
     "locked": true,
     "schema_version": 1,
     "solution": false
    }
   },
   "source": [
    "## Tarefa 3: Transforme atributos preditivos categóricos em numéricos \n",
    "\n",
    "Faça transformação por binarização: crie uma nova coluna para cada categoria, marque ```True``` para as linhas que possuem aquele valor categórico, e ```False``` em caso contrário\n",
    "\n",
    "Exemplo:\n",
    "\n",
    "**Antes** da transformação:\n",
    "\n",
    "| Sexo | Cor da Camisa |\n",
    "|:----:|:-------------:|\n",
    "|   M  |  Vermelha     |\n",
    "|   F  |   Amarela     |\n",
    "|   M  |     Verde     |\n",
    "|   M  |     Verde     |\n",
    "\n",
    "**Depois** da transformação:\n",
    "\n",
    "| Sexo | Camisa_Vermelha | Camisa_Amarela | Camisa_Verde |\n",
    "|:----:|:---------------:|:--------------:|:------------:|\n",
    "|   M  |        True     |       False    |     False    |\n",
    "|   F  |       False     |        True    |     False    |\n",
    "|   M  |       False     |       False    |      True    |\n",
    "|   M  |       False     |       False    |      True    |\n",
    "\n",
    "### Atenção: remova as colunas antigas do conjunto de dados!"
   ]
  },
  {
   "cell_type": "code",
   "execution_count": null,
   "metadata": {
    "deletable": false,
    "nbgrader": {
     "checksum": "cc4694042f8e637adac41dd6b18a9978",
     "grade": false,
     "grade_id": "cell-cc4b74ecfc280fc8",
     "locked": false,
     "schema_version": 1,
     "solution": true
    }
   },
   "outputs": [],
   "source": [
    "from sklearn.preprocessing import OneHotEncoder\n",
    "\n",
    "def binarize(dados):\n",
    "    # YOUR CODE HERE\n",
    "    raise NotImplementedError()\n",
    "    return dados\n",
    "\n",
    "df = binarize(df)\n",
    "\n",
    "display(df)"
   ]
  },
  {
   "cell_type": "code",
   "execution_count": null,
   "metadata": {
    "deletable": false,
    "editable": false,
    "nbgrader": {
     "checksum": "2caf2b4de6d855d26141a956f20895a2",
     "grade": true,
     "grade_id": "cell-99b7a6ee865fd153",
     "locked": true,
     "points": 2,
     "schema_version": 1,
     "solution": false
    }
   },
   "outputs": [],
   "source": [
    "\"\"\"\n",
    "Testes para a Tarefa 3\n",
    "\"\"\"\n",
    "from nose.tools import *\n",
    "\n",
    "# repare que o número de colunas aumentou desde a última tarefa\n",
    "\n",
    "# verifica se os valores foram inseridos corretamente.\n",
    "# PROVAVELMENTE irá jogar um warning, mas não precisa se preocupar com isso!\n",
    "adult_means = pd.Series.from_csv('datasets_parciais/adult_means_tarefa_3.csv').astype(np.float32)\n",
    "ok_(np.all(abs(adult_means - df.mean(axis=0).astype(np.float32)) < 0.01))"
   ]
  },
  {
   "cell_type": "markdown",
   "metadata": {
    "deletable": false,
    "editable": false,
    "nbgrader": {
     "checksum": "61a82dedfe262fe336ef89dcfd437628",
     "grade": false,
     "grade_id": "cell-3162c43a0081da8c",
     "locked": true,
     "schema_version": 1,
     "solution": false
    }
   },
   "source": [
    "## Tarefa 4: Transforma o atributo classe (que é binário) em numérico (ordem crescente de inteiros começando em 0)\n",
    "\n",
    "O atributo classe **nunca** deve ser binarizado (i.e. criar uma coluna para cada categoria).\n",
    "\n",
    "* O nome do atributo classe é ```salary```\n",
    "* Transforme cada categoria do atributo classe em um número (use o dicionário para fazer a conversão)\n",
    "* Faça com que o atributo classe seja a última coluna do dataset"
   ]
  },
  {
   "cell_type": "code",
   "execution_count": null,
   "metadata": {
    "deletable": false,
    "nbgrader": {
     "checksum": "d6a209544fc53c7c328b141b34e91a67",
     "grade": false,
     "grade_id": "cell-72e211a434d2db76",
     "locked": false,
     "schema_version": 1,
     "solution": true
    }
   },
   "outputs": [],
   "source": [
    "def transforma_classe(dados):\n",
    "    # YOUR CODE HERE\n",
    "    raise NotImplementedError()\n",
    "    return dados\n",
    "\n",
    "df = transforma_classe(df)\n",
    "\n",
    "display(df)"
   ]
  },
  {
   "cell_type": "code",
   "execution_count": null,
   "metadata": {
    "deletable": false,
    "editable": false,
    "nbgrader": {
     "checksum": "7d697c42b2d51356d6c3b6c7f494bf37",
     "grade": true,
     "grade_id": "cell-1cceefe107247561",
     "locked": true,
     "points": 1.5,
     "schema_version": 1,
     "solution": false
    }
   },
   "outputs": [],
   "source": [
    "\"\"\"\n",
    "Testes para a Tarefa 4\n",
    "\"\"\"\n",
    "from nose.tools import *\n",
    "\n",
    "ordered = sorted(df['salary'].unique())\n",
    "ok_(ordered == [0, 1])"
   ]
  },
  {
   "cell_type": "markdown",
   "metadata": {
    "deletable": false,
    "editable": false,
    "nbgrader": {
     "checksum": "cf5dcce192d07a419405c1e8e35b12d0",
     "grade": false,
     "grade_id": "cell-2e84e87fa960436f",
     "locked": true,
     "schema_version": 1,
     "solution": false
    }
   },
   "source": [
    "## Tarefa 5: separe o dataset entre treino e teste\n",
    "\n",
    "* Use 25% do dataset para teste e 75% para treino\n",
    "* Use estratificação nos dados (i.e. se 50% dos exemplos são da classe positiva e 50% da classe negativa, esta mesma distribuição deve ser verificada nos conjuntos de treino e teste)"
   ]
  },
  {
   "cell_type": "code",
   "execution_count": null,
   "metadata": {
    "deletable": false,
    "nbgrader": {
     "checksum": "24bcf82972ebcc33dc16849f6bb05e75",
     "grade": false,
     "grade_id": "cell-ccaeeca20a4494b6",
     "locked": false,
     "schema_version": 1,
     "solution": true
    }
   },
   "outputs": [],
   "source": [
    "from sklearn.model_selection import train_test_split\n",
    "import random\n",
    "\n",
    "random.seed(0)\n",
    "np.random.seed(0)\n",
    "\n",
    "# YOUR CODE HERE\n",
    "raise NotImplementedError()"
   ]
  },
  {
   "cell_type": "code",
   "execution_count": null,
   "metadata": {
    "deletable": false,
    "editable": false,
    "nbgrader": {
     "checksum": "cd102049e591f7b4425d4b1797e3414d",
     "grade": true,
     "grade_id": "cell-64ea071c1c0b74b5",
     "locked": true,
     "points": 1,
     "schema_version": 1,
     "solution": false
    }
   },
   "outputs": [],
   "source": [
    "\"\"\"\n",
    "Testes para a Tarefa 5\n",
    "\"\"\"\n",
    "from nose.tools import *\n",
    "\n",
    "ok_(X_train.shape == (36631, 89))\n",
    "ok_(X_test.shape == (12211, 89))\n",
    "ok_(y_train.shape == (36631,))\n",
    "ok_(y_test.shape == (12211,))"
   ]
  },
  {
   "cell_type": "markdown",
   "metadata": {
    "deletable": false,
    "editable": false,
    "nbgrader": {
     "checksum": "2681e042bb5e7aeea0d4dbabd6011181",
     "grade": false,
     "grade_id": "cell-344408d6146d345d",
     "locked": true,
     "schema_version": 1,
     "solution": false
    }
   },
   "source": [
    "## Tarefa 6: Treine uma árvore de decisão\n",
    "\n",
    "* Treine uma árvore de decisão com profundidade máxima = 3\n",
    "* Teste no conjunto de testes\n",
    "* Calcule a acurácia da árvore"
   ]
  },
  {
   "cell_type": "code",
   "execution_count": null,
   "metadata": {
    "deletable": false,
    "nbgrader": {
     "checksum": "7ceb28b7bb210931e318b05276146d8a",
     "grade": false,
     "grade_id": "cell-76a223a8af32778c",
     "locked": false,
     "schema_version": 1,
     "solution": true
    }
   },
   "outputs": [],
   "source": [
    "from sklearn import tree\n",
    "from sklearn.metrics import accuracy_score\n",
    "\n",
    "# YOUR CODE HERE\n",
    "raise NotImplementedError()"
   ]
  },
  {
   "cell_type": "code",
   "execution_count": null,
   "metadata": {
    "deletable": false,
    "editable": false,
    "nbgrader": {
     "checksum": "2832e40430cbcddcb977f969c3d3d758",
     "grade": true,
     "grade_id": "cell-2500793fc99e00ad",
     "locked": true,
     "points": 1,
     "schema_version": 1,
     "solution": false
    }
   },
   "outputs": [],
   "source": [
    "\"\"\"\n",
    "Testes para a Tarefa 6\n",
    "\"\"\"\n",
    "from nose.tools import *\n",
    "\n",
    "ok_(isinstance(dt, tree.DecisionTreeClassifier))\n",
    "\n",
    "predictions = dt.predict(X_test)\n",
    "\n",
    "acc = accuracy_score(y_test, predictions)\n",
    "ok_(abs(acc - 0.842600933584473) < 0.01)  # acurácia que deve ser reportada"
   ]
  },
  {
   "cell_type": "markdown",
   "metadata": {
    "deletable": false,
    "editable": false,
    "nbgrader": {
     "checksum": "f755104fb834c63bc29775ccf56de5c8",
     "grade": false,
     "grade_id": "cell-f3c259484bab525a",
     "locked": true,
     "schema_version": 1,
     "solution": false
    }
   },
   "source": [
    "### Tarefa 7: \n",
    "\n",
    "Para o seguinte conjunto de dados, execute o K-NN para os seguintes valores de k: 1, 3, 5 e 7"
   ]
  },
  {
   "cell_type": "code",
   "execution_count": null,
   "metadata": {
    "deletable": false,
    "editable": false,
    "nbgrader": {
     "checksum": "7560801155cd8c4705f4bcf03dfce7d8",
     "grade": false,
     "grade_id": "cell-7058306d8f32633c",
     "locked": true,
     "schema_version": 1,
     "solution": false
    }
   },
   "outputs": [],
   "source": [
    "import numpy as np\n",
    "\n",
    "raw_data = np.array([\n",
    "    [1.16, 7.04, 0],\n",
    "    [7.21, 7.55, 1],\n",
    "    [4.31, 6.81, 1],\n",
    "    [6.09, 6.91, 1],\n",
    "    [4.96, 7.72, 1],\n",
    "    [5.20, 8.93, 1],\n",
    "    [2.35, 8.65, 0],\n",
    "    [2.77, 9.00, 0]],\n",
    "    dtype=np.float32\n",
    ")\n",
    "\n",
    "X_train = raw_data[:, :-1]\n",
    "y_train = raw_data[:, -1]\n",
    "\n",
    "X_test = np.array([[3.41, 8.01]])"
   ]
  },
  {
   "cell_type": "code",
   "execution_count": null,
   "metadata": {
    "deletable": false,
    "nbgrader": {
     "checksum": "2556f89f238082b6067787cd2a891ed3",
     "grade": false,
     "grade_id": "cell-728443ff4283bbc7",
     "locked": false,
     "schema_version": 1,
     "solution": true
    }
   },
   "outputs": [],
   "source": [
    "from collections import Counter\n",
    "\n",
    "def euclidean_distance(a, b):\n",
    "    \"\"\"\n",
    "    Calcula a distância euclidiana entre dois pontos a e b.\n",
    "    \n",
    "    :type a: numpy.ndarray\n",
    "    :type b: numpy.ndarray\n",
    "    :rtype: np.float32\n",
    "    \"\"\"\n",
    "    distance = np.inf\n",
    "    # YOUR CODE HERE\n",
    "    raise NotImplementedError()\n",
    "    return np.float32(distance)\n",
    "\n",
    "class NearestNeighbors(object):\n",
    "    def __init__(self, n_neighbors=1):\n",
    "        pass\n",
    "        # YOUR CODE HERE\n",
    "        raise NotImplementedError()\n",
    "    \n",
    "    def fit(self, X, y):\n",
    "        # YOUR CODE HERE\n",
    "        raise NotImplementedError()\n",
    "        return self\n",
    "    \n",
    "    def predict(self, X):\n",
    "        predicted = np.empty(len(X), dtype=np.int32)\n",
    "        \n",
    "        # YOUR CODE HERE\n",
    "        raise NotImplementedError()\n",
    "        return predicted\n",
    "    "
   ]
  },
  {
   "cell_type": "code",
   "execution_count": null,
   "metadata": {
    "deletable": false,
    "editable": false,
    "nbgrader": {
     "checksum": "d3ef33148ffa102b23fc73658d559bfb",
     "grade": true,
     "grade_id": "cell-b667631ffcce58a8",
     "locked": true,
     "points": 1,
     "schema_version": 1,
     "solution": false
    }
   },
   "outputs": [],
   "source": [
    "\"\"\"\n",
    "Testes para a Tarefa 7\n",
    "\"\"\"\n",
    "from nose.tools import *\n",
    "from sklearn.metrics import accuracy_score\n",
    "\n",
    "y_test = {\n",
    "    1: np.array([[0]], dtype=np.int32),\n",
    "    3: np.array([[0]], dtype=np.int32),\n",
    "    5: np.array([[1]], dtype=np.int32),\n",
    "    7: np.array([[1]], dtype=np.int32)\n",
    "}\n",
    "\n",
    "for i in (1, 3, 5, 7):\n",
    "    knn = NearestNeighbors(n_neighbors=i)\n",
    "    knn = knn.fit(X_train, y_train)\n",
    "    preds = knn.predict(X_test)\n",
    "    ok_(abs(accuracy_score(preds, y_test[i]) - 1.) < 0.01)"
   ]
  },
  {
   "cell_type": "markdown",
   "metadata": {
    "deletable": false,
    "editable": false,
    "nbgrader": {
     "checksum": "7bcde58ef09f1dd9216eb50c3750cf7e",
     "grade": false,
     "grade_id": "cell-13269a43321bc704",
     "locked": true,
     "schema_version": 1,
     "solution": false
    }
   },
   "source": [
    "### Bônus 1: Diagrama de Voronoi\n",
    "\n",
    "O gráfico abaixo é um Diagrama de Voronoi. Ela determina as áreas de influência de cada uma das instâncias no conjunto de treino para k=1"
   ]
  },
  {
   "cell_type": "code",
   "execution_count": null,
   "metadata": {
    "deletable": false,
    "editable": false,
    "nbgrader": {
     "checksum": "493aa246cff08ae995f6babca42c4cf3",
     "grade": false,
     "grade_id": "cell-1f8122e6aa461945",
     "locked": true,
     "schema_version": 1,
     "solution": false
    }
   },
   "outputs": [],
   "source": [
    "from matplotlib import pyplot as plt\n",
    "from scipy.spatial import Voronoi, voronoi_plot_2d\n",
    "\n",
    "fig, ax = plt.subplots()\n",
    "\n",
    "vor = Voronoi(X_train)\n",
    "voronoi_plot_2d(vor=vor, ax=ax, show_ponts=False, show_vertices=False)\n",
    "\n",
    "ax.scatter(X_train[:, 0], X_train[:, 1], c=y_train, s=90, zorder=3)\n",
    "ax.scatter(X_test[:, 0], X_test[:, 1], s=90, c='white', linewidth=1., edgecolor='black', zorder=3)\n",
    "\n",
    "for i in range(len(X_train)):\n",
    "    ax.text(X_train[i, 0], X_train[i, 1] + 0.1, str(i), fontdict=dict(size=14, color='black'))\n",
    "\n",
    "plt.tight_layout()\n",
    "\n",
    "plt.show()"
   ]
  },
  {
   "cell_type": "markdown",
   "metadata": {
    "deletable": false,
    "editable": false,
    "nbgrader": {
     "checksum": "5d8382cde68e65196366eca3a4002a10",
     "grade": false,
     "grade_id": "cell-035cdebb3401ea83",
     "locked": true,
     "schema_version": 1,
     "solution": false
    }
   },
   "source": [
    "### Bônus 2: visualizando as instâncias mais próximas"
   ]
  },
  {
   "cell_type": "code",
   "execution_count": null,
   "metadata": {
    "deletable": false,
    "editable": false,
    "nbgrader": {
     "checksum": "2afc0edf3e49b9970a05ea99ae197350",
     "grade": false,
     "grade_id": "cell-08a483bbc9d34c76",
     "locked": true,
     "schema_version": 1,
     "solution": false
    }
   },
   "outputs": [],
   "source": [
    "from matplotlib import pyplot as plt\n",
    "\n",
    "fig, ax = plt.subplots()\n",
    "\n",
    "for i in range(len(X_train)):\n",
    "    ax.plot([X_test[0, 0], X_train[i, 0]], [X_test[0, 1], X_train[i, 1]], c='black', zorder=1)\n",
    "\n",
    "# Plot the training points\n",
    "ax.scatter(X_train[:, 0], X_train[:, 1], c=y_train, marker='o', s=90, zorder=2)\n",
    "# Plot the testing points\n",
    "ax.scatter(X_test[:, 0], X_test[:, 1], c='white', marker='o', s=90, edgecolors='black', zorder=3)\n",
    "\n",
    "plt.tight_layout()\n",
    "plt.show()"
   ]
  }
 ],
 "metadata": {
  "anaconda-cloud": {},
  "kernelspec": {
   "display_name": "Python 3",
   "language": "python",
   "name": "python3"
  },
  "language_info": {
   "codemirror_mode": {
    "name": "ipython",
    "version": 3
   },
   "file_extension": ".py",
   "mimetype": "text/x-python",
   "name": "python",
   "nbconvert_exporter": "python",
   "pygments_lexer": "ipython3",
   "version": "3.6.5"
  }
 },
 "nbformat": 4,
 "nbformat_minor": 1
}
